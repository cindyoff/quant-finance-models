{
 "cells": [
  {
   "cell_type": "code",
   "execution_count": 1,
   "id": "21222cf4",
   "metadata": {},
   "outputs": [],
   "source": [
    "# packages\n",
    "import pandas as pd \n",
    "import numpy as np \n",
    "import matplotlib.pyplot as mp \n",
    "import yfinance as yf\n",
    "import seaborn as sb "
   ]
  },
  {
   "cell_type": "code",
   "execution_count": null,
   "id": "ebf574ac",
   "metadata": {},
   "outputs": [
    {
     "name": "stderr",
     "output_type": "stream",
     "text": [
      "/var/folders/41/w98nt4n9157dxf5y0n22l5kc0000gn/T/ipykernel_14146/439469023.py:2: FutureWarning: YF.download() has changed argument auto_adjust default to True\n",
      "  data = yf.download('AAPL', start='2020-01-01', end='2024-01-01')\n",
      "[*********************100%***********************]  1 of 1 completed"
     ]
    },
    {
     "name": "stdout",
     "output_type": "stream",
     "text": [
      "Price           Close       High        Low       Open     Volume\n",
      "Ticker           AAPL       AAPL       AAPL       AAPL       AAPL\n",
      "Date                                                             \n",
      "2020-01-02  72.538521  72.598899  71.292311  71.545897  135480400\n",
      "2020-01-03  71.833305  72.594071  71.608700  71.765682  146322800\n",
      "2020-01-06  72.405678  72.444321  70.703012  70.954188  118387200\n",
      "2020-01-07  72.065140  72.671333  71.845362  72.415330  108872000\n",
      "2020-01-08  73.224403  73.526295  71.768079  71.768079  132079200\n"
     ]
    },
    {
     "name": "stderr",
     "output_type": "stream",
     "text": [
      "\n"
     ]
    }
   ],
   "source": [
    "# import and visualize data\n",
    "data = yf.download('AAPL', start='2020-01-01', end='2024-01-01')\n",
    "data = pd.DataFrame(data)\n",
    "print(data.head())"
   ]
  },
  {
   "cell_type": "code",
   "execution_count": 4,
   "id": "3fbb7284",
   "metadata": {},
   "outputs": [
    {
     "name": "stdout",
     "output_type": "stream",
     "text": [
      "Price           Close       High        Low       Open     Volume\n",
      "Ticker           AAPL       AAPL       AAPL       AAPL       AAPL\n",
      "Date                                                             \n",
      "2020-01-02  72.538521  72.598899  71.292311  71.545897  135480400\n",
      "2020-01-03  71.833305  72.594071  71.608700  71.765682  146322800\n",
      "2020-01-06  72.405678  72.444321  70.703012  70.954188  118387200\n",
      "2020-01-07  72.065140  72.671333  71.845362  72.415330  108872000\n",
      "2020-01-08  73.224403  73.526295  71.768079  71.768079  132079200\n",
      "Price         Close         High          Low         Open        Volume\n",
      "Ticker         AAPL         AAPL         AAPL         AAPL          AAPL\n",
      "count   1006.000000  1006.000000  1006.000000  1006.000000  1.006000e+03\n",
      "mean     138.220942   139.704823   136.588527   138.090655  9.895373e+07\n",
      "std       33.421410    33.541731    33.282002    33.415133  5.439610e+07\n",
      "min       54.316936    55.316755    51.470001    55.215079  2.404830e+07\n",
      "25%      120.626509   121.869867   119.090680   120.732243  6.407675e+07\n",
      "50%      143.088570   144.665454   141.423897   142.938067  8.467540e+07\n",
      "75%      163.506081   165.786473   162.250089   163.774404  1.155069e+08\n",
      "max      196.446808   197.944126   195.346140   196.357567  4.265100e+08\n"
     ]
    }
   ],
   "source": [
    "# exploratory data analysis\n",
    "print(data.head())\n",
    "print(data.describe())"
   ]
  }
 ],
 "metadata": {
  "kernelspec": {
   "display_name": "base",
   "language": "python",
   "name": "python3"
  },
  "language_info": {
   "codemirror_mode": {
    "name": "ipython",
    "version": 3
   },
   "file_extension": ".py",
   "mimetype": "text/x-python",
   "name": "python",
   "nbconvert_exporter": "python",
   "pygments_lexer": "ipython3",
   "version": "3.11.7"
  }
 },
 "nbformat": 4,
 "nbformat_minor": 5
}
